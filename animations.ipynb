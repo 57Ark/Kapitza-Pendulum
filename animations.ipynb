{
 "cells": [
  {
   "cell_type": "markdown",
   "metadata": {},
   "source": [
    "# Маятник Капицы \n",
    "<div align=\"right\">Воуба Архип</div> \n",
    "<div align=\"right\">ВШЭ, ФКН, ПМИ</div>\n"
   ]
  },
  {
   "cell_type": "markdown",
   "metadata": {},
   "source": [
    "В данном ноутбуке показано как создавались анимации маятника Капицы\n",
    "(плееры с анимациями были удалены, так как с ними файл весил слишком много и не мог быть загружен на github)"
   ]
  },
  {
   "cell_type": "code",
   "execution_count": null,
   "metadata": {},
   "outputs": [],
   "source": [
    "import matplotlib\n",
    "import numpy as np\n",
    "import matplotlib.pyplot as plt\n",
    "from celluloid import Camera\n",
    "from scipy.integrate import odeint\n",
    "from IPython.display import HTML\n",
    "from matplotlib.animation import PillowWriter\n",
    "\n",
    "from kapitzaPendulum import kapitzaPendulum\n",
    "\n",
    "%matplotlib inline\n",
    "matplotlib.rcParams['animation.embed_limit'] = 2**128\n"
   ]
  },
  {
   "cell_type": "code",
   "execution_count": null,
   "metadata": {},
   "outputs": [],
   "source": [
    "def drawKapitzaPendulum(x, t, ax, a=0.1, v=120, l=1):\n",
    "    ax.set_xlim([- l - a - 0.1, l + a + 0.1])\n",
    "    ax.set_ylim([- l - a - 0.1, l + a + 0.1])\n",
    "\n",
    "    ax.set_title(\"Маятник Капицы\")\n",
    "    ax.set(xlabel=\"a={}, v={}, l={}\".format(a, v, l))\n",
    "    \n",
    "    ax.plot([0, l * np.sin(x)], [-a * np.cos(v * t), -l * np.cos(x) - a * np.cos(v * t)], '-o', color='blue')\n",
    "\n",
    "    ax.plot([0.5, 0.5],[-a, a],'-', linewidth=15, color=\"blue\")\n",
    "    ax.plot([0,1],[-a * np.cos(v * t),0], '-o', linewidth=5, color=\"orange\")\n",
    "\n",
    "    return fig\n",
    "\n",
    "def drawDeviation(x, t, ax):\n",
    "    ax.set_title(\"Отклонение от положения равновесия (в радианах)\")\n",
    "    ax.set(xlabel='Time', ylabel='Radians')\n",
    "\n",
    "    ax.plot([-0.5, 10.5], [0, 0],'-', linewidth=0.5, color=\"orange\")\n",
    "\n",
    "    ax.plot(t, x, color=\"blue\");\n",
    "    return fig\n"
   ]
  },
  {
   "cell_type": "code",
   "execution_count": null,
   "metadata": {
    "scrolled": true
   },
   "outputs": [],
   "source": [
    "fig, ax = plt.subplots(figsize=(8.4, 8.4))\n",
    "\n",
    "camera = Camera(fig)\n",
    "\n",
    "t_linspace = np.linspace(0, 10, 2000)\n",
    "\n",
    "trajectory = odeint(lambda y, t: np.array(kapitzaPendulum(t, y[0], y[1], a=0.4)),\n",
    "        np.array([0.75 * np.pi, 0]),\n",
    "        t_linspace)\n",
    "\n",
    "for i in range(2000):\n",
    "    drawKapitzaPendulum(trajectory[i, 0], t_linspace[i], ax)\n",
    "    camera.snap()\n",
    "\n",
    "animation = camera.animate(interval=40, repeat=True)\n",
    "writergif = PillowWriter(fps=30)\n",
    "animation.save('animation_0.gif',writer=writergif)\n",
    "\n",
    "HTML(animation.to_jshtml())"
   ]
  },
  {
   "cell_type": "code",
   "execution_count": null,
   "metadata": {},
   "outputs": [],
   "source": [
    "fig, ax = plt.subplots(2, 1)\n",
    "\n",
    "fig.set_figwidth(8.4)\n",
    "fig.set_figheight(16.8)\n",
    "\n",
    "camera = Camera(fig)\n",
    "\n",
    "t_linspace = np.linspace(0, 10, 2000)\n",
    "\n",
    "trajectory = odeint(lambda y, t: np.array(kapitzaPendulum(t, y[0], y[1])),\n",
    "        np.array([0.75 * np.pi, 0]),\n",
    "        t_linspace)\n",
    "\n",
    "for i in range(2000):\n",
    "    drawKapitzaPendulum(trajectory[i, 0], t_linspace[i], ax[0])\n",
    "    drawDeviation(np.full(i, np.pi) - trajectory[:i, 0], t_linspace[:i], ax[1])\n",
    "    camera.snap()\n",
    "\n",
    "animation = camera.animate(interval=40, repeat=True)\n",
    "writergif = PillowWriter(fps=30)\n",
    "animation.save('animation_1.gif', writer=writergif)\n",
    "\n",
    "HTML(animation.to_jshtml())"
   ]
  },
  {
   "cell_type": "code",
   "execution_count": null,
   "metadata": {},
   "outputs": [],
   "source": [
    "fig, ax = plt.subplots(2, 1)\n",
    "\n",
    "fig.set_figwidth(8.4)\n",
    "fig.set_figheight(16.8)\n",
    "\n",
    "camera = Camera(fig)\n",
    "\n",
    "t_linspace = np.linspace(0, 10, 2000)\n",
    "\n",
    "trajectory = odeint(lambda y, t: np.array(kapitzaPendulum(t, y[0], y[1])),\n",
    "        np.array([0.25 * np.pi, 0]),\n",
    "        t_linspace)\n",
    "\n",
    "for i in range(2000):\n",
    "    drawKapitzaPendulum(trajectory[i, 0], t_linspace[i], ax[0])\n",
    "    drawDeviation(trajectory[:i, 0], t_linspace[:i], ax[1])\n",
    "    camera.snap()\n",
    "\n",
    "animation = camera.animate(interval=40, repeat=True)\n",
    "writergif = PillowWriter(fps=30)\n",
    "animation.save('animation_2.gif',writer=writergif)\n",
    "\n",
    "HTML(animation.to_jshtml())"
   ]
  },
  {
   "cell_type": "code",
   "execution_count": null,
   "metadata": {
    "scrolled": true
   },
   "outputs": [],
   "source": [
    "fig, ax = plt.subplots(figsize=(8.4, 8.4))\n",
    "\n",
    "camera = Camera(fig)\n",
    "\n",
    "t_linspace = np.linspace(0, 10, 2000)\n",
    "\n",
    "trajectory = odeint(lambda y, t: np.array(kapitzaPendulum(t, y[0], y[1], a=0.3)),\n",
    "        np.array([0.75 * np.pi, 0]),\n",
    "        t_linspace)\n",
    "\n",
    "for i in range(2000):\n",
    "    drawKapitzaPendulum(trajectory[i, 0], t_linspace[i], ax, a=0.3)\n",
    "    camera.snap()\n",
    "\n",
    "animation = camera.animate(interval=40, repeat=True)\n",
    "writergif = PillowWriter(fps=30)\n",
    "animation.save('animation_3.gif',writer=writergif)\n",
    "\n",
    "HTML(animation.to_jshtml())"
   ]
  },
  {
   "cell_type": "code",
   "execution_count": null,
   "metadata": {
    "scrolled": true
   },
   "outputs": [],
   "source": [
    "fig, ax = plt.subplots(figsize=(8.4, 8.4))\n",
    "\n",
    "camera = Camera(fig)\n",
    "\n",
    "t_linspace = np.linspace(0, 10, 2000)\n",
    "\n",
    "trajectory = odeint(lambda y, t: np.array(kapitzaPendulum(t, y[0], y[1], a=0.4)),\n",
    "        np.array([0.75 * np.pi, 0]),\n",
    "        t_linspace)\n",
    "\n",
    "for i in range(2000):\n",
    "    drawKapitzaPendulum(trajectory[i, 0], t_linspace[i], ax, a=0.4)\n",
    "    camera.snap()\n",
    "\n",
    "animation = camera.animate(interval=40, repeat=True)\n",
    "writergif = PillowWriter(fps=30)\n",
    "animation.save('animation_4.gif',writer=writergif)\n",
    "\n",
    "HTML(animation.to_jshtml())"
   ]
  },
  {
   "cell_type": "code",
   "execution_count": null,
   "metadata": {
    "scrolled": true
   },
   "outputs": [],
   "source": [
    "fig, ax = plt.subplots(figsize=(8.4, 8.4))\n",
    "\n",
    "camera = Camera(fig)\n",
    "\n",
    "t_linspace = np.linspace(0, 10, 2000)\n",
    "\n",
    "trajectory = odeint(lambda y, t: np.array(kapitzaPendulum(t, y[0], y[1], a=0.6)),\n",
    "        np.array([0.75 * np.pi, 0]),\n",
    "        t_linspace)\n",
    "\n",
    "for i in range(2000):\n",
    "    drawKapitzaPendulum(trajectory[i, 0], t_linspace[i], ax, a=0.6)\n",
    "    camera.snap()\n",
    "\n",
    "animation = camera.animate(interval=40, repeat=True)\n",
    "writergif = PillowWriter(fps=30)\n",
    "animation.save('animation_5.gif',writer=writergif)\n",
    "\n",
    "HTML(animation.to_jshtml())"
   ]
  },
  {
   "cell_type": "code",
   "execution_count": null,
   "metadata": {
    "scrolled": true
   },
   "outputs": [],
   "source": [
    "fig, ax = plt.subplots(figsize=(8.4, 8.4))\n",
    "\n",
    "camera = Camera(fig)\n",
    "\n",
    "t_linspace = np.linspace(0, 10, 2000)\n",
    "\n",
    "trajectory = odeint(lambda y, t: np.array(kapitzaPendulum(t, y[0], y[1], a=1.2)),\n",
    "        np.array([0.75 * np.pi, 0]),\n",
    "        t_linspace)\n",
    "\n",
    "for i in range(2000):\n",
    "    drawKapitzaPendulum(trajectory[i, 0], t_linspace[i], ax, a=1.2)\n",
    "    camera.snap()\n",
    "\n",
    "animation = camera.animate(interval=40, repeat=True)\n",
    "writergif = PillowWriter(fps=30)\n",
    "animation.save('animation_6.gif',writer=writergif)\n",
    "\n",
    "HTML(animation.to_jshtml())"
   ]
  },
  {
   "cell_type": "code",
   "execution_count": null,
   "metadata": {
    "scrolled": true
   },
   "outputs": [],
   "source": [
    "fig, ax = plt.subplots(2, 1)\n",
    "\n",
    "fig.set_figwidth(8.4)\n",
    "fig.set_figheight(16.8)\n",
    "\n",
    "\n",
    "camera = Camera(fig)\n",
    "\n",
    "t_linspace = np.linspace(0, 10, 2000)\n",
    "\n",
    "trajectory = odeint(lambda y, t: np.array(kapitzaPendulum(t, y[0], y[1], a=0.3)),\n",
    "        np.array([0.75 * np.pi, 0]),\n",
    "        t_linspace)\n",
    "\n",
    "for i in range(2000):\n",
    "    drawKapitzaPendulum(trajectory[i, 0], t_linspace[i], ax[0], a=0.3)\n",
    "    drawDeviation(np.full(i, np.pi) - trajectory[:i, 0], t_linspace[:i], ax[1])\n",
    "    camera.snap()\n",
    "\n",
    "animation = camera.animate(interval=40, repeat=True)\n",
    "writergif = PillowWriter(fps=30)\n",
    "animation.save('animation_7.gif',writer=writergif)\n",
    "\n",
    "HTML(animation.to_jshtml())"
   ]
  },
  {
   "cell_type": "code",
   "execution_count": null,
   "metadata": {
    "scrolled": true
   },
   "outputs": [],
   "source": [
    "fig, ax = plt.subplots(2, 1)\n",
    "\n",
    "fig.set_figwidth(8.4)\n",
    "fig.set_figheight(16.8)\n",
    "\n",
    "\n",
    "camera = Camera(fig)\n",
    "\n",
    "t_linspace = np.linspace(0, 10, 2000)\n",
    "\n",
    "trajectory = odeint(lambda y, t: np.array(kapitzaPendulum(t, y[0], y[1], a=0.3)),\n",
    "        np.array([0.8 * np.pi, 0]),\n",
    "        t_linspace)\n",
    "\n",
    "for i in range(2000):\n",
    "    drawKapitzaPendulum(trajectory[i, 0], t_linspace[i], ax[0], a=0.3)\n",
    "    drawDeviation(np.full(i, np.pi) - trajectory[:i, 0], t_linspace[:i], ax[1])\n",
    "    camera.snap()\n",
    "\n",
    "animation = camera.animate(interval=40, repeat=True)\n",
    "writergif = PillowWriter(fps=30)\n",
    "animation.save('animation_8.gif',writer=writergif)\n",
    "\n",
    "HTML(animation.to_jshtml())"
   ]
  },
  {
   "cell_type": "code",
   "execution_count": null,
   "metadata": {},
   "outputs": [],
   "source": []
  }
 ],
 "metadata": {
  "interpreter": {
   "hash": "8567a07638d4c51cb909456e4fea81fb393bc3e8f2490ba8a249a27ba86f2306"
  },
  "kernelspec": {
   "display_name": "Python 3 (ipykernel)",
   "language": "python",
   "name": "python3"
  },
  "language_info": {
   "codemirror_mode": {
    "name": "ipython",
    "version": 3
   },
   "file_extension": ".py",
   "mimetype": "text/x-python",
   "name": "python",
   "nbconvert_exporter": "python",
   "pygments_lexer": "ipython3",
   "version": "3.9.0"
  }
 },
 "nbformat": 4,
 "nbformat_minor": 2
}
